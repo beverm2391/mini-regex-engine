{
 "cells": [
  {
   "cell_type": "code",
   "execution_count": 2,
   "metadata": {},
   "outputs": [],
   "source": [
    "from __future__ import annotations\n",
    "from typing import Tuple, List, Dict"
   ]
  },
  {
   "cell_type": "code",
   "execution_count": null,
   "metadata": {},
   "outputs": [],
   "source": [
    "def re_parse(): raise NotImplementedError\n",
    "def parse_node(): raise NotImplementedError"
   ]
  },
  {
   "cell_type": "code",
   "execution_count": null,
   "metadata": {},
   "outputs": [],
   "source": [
    "class Node:\n",
    "    def __init__(self, kind: str, *args):\n",
    "        self.kind = kind\n",
    "        self.args = args\n",
    "    def __repr__(self):\n",
    "        return f'Node({self.kind}, {\", \".join(repr(a) for a in self.args)})'\n",
    "\n",
    "def parse_split(r: str, idx: int) -> Tuple[int, Node]:\n",
    "    \"\"\"Takes subexpressions from parse_concat and parses them into a split node\"\"\"\n",
    "    idx, prev = parse_concat(r, idx)\n",
    "    while idx < len(r):\n",
    "        if r[idx] == ')':\n",
    "            # return to the outer parse node\n",
    "            break\n",
    "        assert r[idx] == '|', f'Expected \"|\" got {r[idx]}'\n",
    "        idx, node = parse_concat(r, idx + 1)\n",
    "        prev = ('split', prev, node)\n",
    "    return idx, prev\n",
    "\n",
    "def parse_concat(r: str, idx: int) -> Tuple[int, Node]:\n",
    "    \"\"\"Takes subexpressions from parse_node and parses them into a concat node\"\"\"\n",
    "    prev = None\n",
    "    while idx < len(r):\n",
    "        if r[idx] in '|)':\n",
    "            # return to the outer parse_split or parse_node\n",
    "            break\n",
    "        idx, node = parse_node(r, idx) # parse a node\n",
    "        if prev is None:\n",
    "            prev = node\n",
    "        else:\n",
    "            prev = ('cat', prev, node)\n",
    "    return idx, prev\n",
    "\n",
    "def parse_node(r: str, idx: int) -> Tuple[int, Node]:\n",
    "    \"\"\"Parses a single node\"\"\"\n",
    "    ch = r[idx]\n",
    "    idx += 1\n",
    "    assert ch not in '|)', f'Expected a character, got {ch}'\n",
    "    if ch == '(':\n",
    "        idx, node = parse_split(r, idx)\n",
    "        if idx < len(r) and r[idx] == ')':\n",
    "            idx += 1\n",
    "        else:\n",
    "            raise SyntaxError('Expected \")\": unbalanced parentheses')\n",
    "    elif ch == '.':\n",
    "        node = ('dot',)\n",
    "    elif ch in '*+{':\n",
    "        raise Exception('nothing to repeat')\n",
    "    else:\n",
    "        node = ('char', ch)\n",
    "\n",
    "    idx, node = parse_postfix(r, idx, node)\n",
    "    return idx, node\n",
    "\n",
    "def parse_postfix(r: str, idx: int, node: Node) -> Tuple[int, Node]:\n",
    "    if idx == len(r) or r[idx] not in '*+{':\n",
    "        return idx, node\n",
    "    \n",
    "    ch = r[idx]\n",
    "    idx += 1\n",
    "\n",
    "    if ch = "
   ]
  },
  {
   "cell_type": "code",
   "execution_count": null,
   "metadata": {},
   "outputs": [],
   "source": [
    "def test():\n",
    "    assert re_parse('') is None\n",
    "    assert re_parse('.') == 'dot'\n",
    "    assert re_parse('a') == 'a'\n",
    "    assert re_parse('ab') == ('cat', 'a', 'b')\n",
    "    assert re_parse('a|b') == ('split', 'a', 'b')\n",
    "    assert re_parse('a+') == ('repeat', 'a', 1, float('inf'))\n",
    "    assert re_parse('a{3,6}') == ('repeat', 'a', 3, 6)\n",
    "    assert re_parse('a|bc') == ('split', 'a', ('cat', 'b', 'c'))"
   ]
  }
 ],
 "metadata": {
  "kernelspec": {
   "display_name": "venv",
   "language": "python",
   "name": "python3"
  },
  "language_info": {
   "codemirror_mode": {
    "name": "ipython",
    "version": 3
   },
   "file_extension": ".py",
   "mimetype": "text/x-python",
   "name": "python",
   "nbconvert_exporter": "python",
   "pygments_lexer": "ipython3",
   "version": "3.10.0"
  }
 },
 "nbformat": 4,
 "nbformat_minor": 2
}
