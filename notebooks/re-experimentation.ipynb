{
 "cells": [
  {
   "cell_type": "code",
   "execution_count": 1,
   "metadata": {},
   "outputs": [],
   "source": [
    "import re"
   ]
  },
  {
   "cell_type": "code",
   "execution_count": 11,
   "metadata": {},
   "outputs": [
    {
     "name": "stdout",
     "output_type": "stream",
     "text": [
      "found: <re.Match object; span=(0, 5), match='hello'>\n",
      "found at beginning: <re.Match object; span=(0, 5), match='hello'>\n",
      "found all: ['hello', 'hello']\n",
      "parts: ['hello', 'world', 'hello', 'world']\n",
      "replaced: hi world!\n"
     ]
    }
   ],
   "source": [
    "\n",
    "#! searching for a pattern in a string ====================\n",
    "pattern = 'hello'\n",
    "string = 'hello world'\n",
    "\n",
    "match = re.search(pattern, string)\n",
    "if match:\n",
    "    print(f'found: {match}')\n",
    "\n",
    "#! matching a pattern at the beginning of a string ==========\n",
    "match = re.match(pattern, string)\n",
    "if match:\n",
    "    print(f'found at beginning: {match}')\n",
    "\n",
    "#! finding all matches in a string ==========================\n",
    "pattern = 'hello'\n",
    "string = 'hello world hello world'\n",
    "\n",
    "matches = re.findall(pattern, string)\n",
    "if matches:\n",
    "    print(f'found all: {matches}')\n",
    "\n",
    "# ! Splitting a string based on a pattern ===================\n",
    "pattern = ' '\n",
    "string = 'hello world hello world'\n",
    "\n",
    "parts = re.split(pattern, string)\n",
    "if parts:\n",
    "    print(f'parts: {parts}')\n",
    "\n",
    "#! replacing a pattern in a string ==========================\n",
    "pattern = 'hello'\n",
    "string = 'hello world!'\n",
    "\n",
    "replaced = re.sub(pattern, 'hi', string)\n",
    "if replaced:\n",
    "    print(f'replaced: {replaced}')"
   ]
  },
  {
   "cell_type": "code",
   "execution_count": 13,
   "metadata": {},
   "outputs": [
    {
     "name": "stdout",
     "output_type": "stream",
     "text": [
      "found all: ['123']\n"
     ]
    }
   ],
   "source": [
    "pattern = r'\\d+' # r means raw string, this pattern matches any number of digits\n",
    "string = 'hello 123 world!'\n",
    "matches = re.findall(pattern, string)\n",
    "if matches:\n",
    "    print(f'found all: {matches}')"
   ]
  },
  {
   "cell_type": "code",
   "execution_count": null,
   "metadata": {},
   "outputs": [],
   "source": []
  }
 ],
 "metadata": {
  "kernelspec": {
   "display_name": "venv",
   "language": "python",
   "name": "python3"
  },
  "language_info": {
   "codemirror_mode": {
    "name": "ipython",
    "version": 3
   },
   "file_extension": ".py",
   "mimetype": "text/x-python",
   "name": "python",
   "nbconvert_exporter": "python",
   "pygments_lexer": "ipython3",
   "version": "3.10.0"
  }
 },
 "nbformat": 4,
 "nbformat_minor": 2
}
